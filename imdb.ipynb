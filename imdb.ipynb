{
 "cells": [
  {
   "cell_type": "code",
   "execution_count": 86,
   "metadata": {},
   "outputs": [],
   "source": [
    "from imdb import IMDb\n",
    "\n",
    "# create an instance of the IMDb class\n",
    "ia = IMDb()\n",
    "\n",
    "def choose_movie(name=None):\n",
    "    if name != None:\n",
    "        movie_list = ia.search_movie(name)\n",
    "        try:\n",
    "            movie = ia.get_movie(movie_list[0].movieID, info=['technical', 'full credits', 'main'])\n",
    "        except IndexError:\n",
    "            print(\"Given movie name {} is invalid. Please enter valid movie name\".format(name))\n",
    "            exit\n",
    "    elif name == None:\n",
    "        movie_list = ia.search_movie(input(\"Enter the movie name: \"))\n",
    "        user_input = ''\n",
    "        i = 0\n",
    "        while user_input.lower() != 'y' and i < len(movie_list):\n",
    "            movie = ia.get_movie(movie_list[i].movieID, info=['technical', 'full credits', 'main'])\n",
    "            user_input = input(\"{}: {}? (Y/N)\".format(movie['kind'], movie['long imdb title']))\n",
    "            i+=1\n",
    "    return movie\n",
    "\n",
    "def intersection_finder(movie1, movie2, credits_keys, tech_keys):\n",
    "    tech1 = movie1.get('tech', [])\n",
    "    tech2 = movie2.get('tech', [])\n",
    "    for key in (tech_keys + credits_keys):\n",
    "        if key in credits_keys:\n",
    "            intersection = set.intersection(set(movie1[key]), set(movie2[key]))\n",
    "        elif key in tech_keys:\n",
    "            intersection = set.intersection(set(tech1[key]), set(tech2[key]))\n",
    "        if len(intersection) > 0:\n",
    "            print(\"{} and {} share these {}(s): \".format(movie1['title'], movie2['title'], key))\n",
    "            for i in intersection:\n",
    "                print('\\t{}'.format(i))\n"
   ]
  },
  {
   "cell_type": "code",
   "execution_count": 84,
   "metadata": {},
   "outputs": [
    {
     "name": "stdout",
     "output_type": "stream",
     "text": [
      "movie 1: Titanic (1997)\n",
      "movie 2: Avatar (2009)\n",
      "Titanic and Avatar share these sound mix(s): \n",
      "\tSDDS\n",
      "\tDolby Digital\n",
      "\tDTS\n",
      "Titanic and Avatar share these director(s): \n",
      "\tJames Cameron\n",
      "Titanic and Avatar share these cast(s): \n",
      "\tJulene Renee\n",
      "Titanic and Avatar share these art department(s): \n",
      "\tPhilip Keller\n",
      "\tEmerson Stitt\n",
      "Titanic and Avatar share these writer(s): \n",
      "\tJames Cameron\n"
     ]
    }
   ],
   "source": [
    "# Attributes can be found at https://github.com/alberanid/imdbpy/blob/master/docs/usage/movie.rst\n",
    "tech_keys = ['sound mix', 'camera'] # soundtrack director, musical score\n",
    "credits_keys = [\"director\", \"cast\", \"art department\", \"writer\"] # director of photography\n",
    "\n",
    "movie1 = choose_movie(\"Titanic\")\n",
    "print(\"{} 1: {}\".format(movie1['kind'], movie1['long imdb title']))\n",
    "\n",
    "movie2 = choose_movie(\"Avatar (2009)\")\n",
    "print(\"{} 2: {}\".format(movie2['kind'], movie2['long imdb title']))\n",
    "\n",
    "intersection_finder(movie1, movie2, credits_keys, tech_keys)"
   ]
  },
  {
   "cell_type": "code",
   "execution_count": 85,
   "metadata": {},
   "outputs": [
    {
     "name": "stdout",
     "output_type": "stream",
     "text": [
      "movie 1: Juno (2007)\n",
      "movie 2: Scott Pilgrim vs. the World (2010)\n",
      "Juno and Scott Pilgrim vs. the World share these sound mix(s): \n",
      "\tSDDS\n",
      "\tDolby Digital\n",
      "\tDTS\n",
      "Juno and Scott Pilgrim vs. the World share these cast(s): \n",
      "\tMichael Cera\n"
     ]
    }
   ],
   "source": [
    "movie1 = choose_movie(\"Juno\")\n",
    "print(\"{} 1: {}\".format(movie1['kind'], movie1['long imdb title']))\n",
    "\n",
    "movie2 = choose_movie(\"Scott Pilgrim\")\n",
    "print(\"{} 2: {}\".format(movie2['kind'], movie2['long imdb title']))\n",
    "\n",
    "intersection_finder(movie1, movie2, credits_keys, tech_keys)"
   ]
  },
  {
   "cell_type": "code",
   "execution_count": 88,
   "metadata": {},
   "outputs": [
    {
     "name": "stdout",
     "output_type": "stream",
     "text": [
      "movie 1: The Hunger Games (2012)\n",
      "movie 2: Passengers (2016)\n",
      "The Hunger Games and Passengers share these sound mix(s): \n",
      "\tSDDS\n",
      "\tDolby Atmos\n",
      "\tDolby Surround 7.1\n",
      "The Hunger Games and Passengers share these cast(s): \n",
      "\tJennifer Lawrence\n",
      "The Hunger Games and Passengers share these art department(s): \n",
      "\tBen Woodworth\n",
      "\tLaurent Ben-Mimoun\n",
      "\tChris Woodworth\n",
      "\tTrey Shaffer\n",
      "\tLamont Snipes\n",
      "\tScott Daniel Johnson\n"
     ]
    }
   ],
   "source": [
    "movie1 = choose_movie(\"Hunger Games\")\n",
    "print(\"{} 1: {}\".format(movie1['kind'], movie1['long imdb title']))\n",
    "\n",
    "movie2 = choose_movie(\"Passengers\")\n",
    "print(\"{} 2: {}\".format(movie2['kind'], movie2['long imdb title']))\n",
    "\n",
    "intersection_finder(movie1, movie2, credits_keys, tech_keys)"
   ]
  },
  {
   "cell_type": "code",
   "execution_count": null,
   "metadata": {},
   "outputs": [],
   "source": []
  }
 ],
 "metadata": {
  "interpreter": {
   "hash": "cf1cc9488f986e55b9ad02ec3dbe006a9544ef0e041cc52f3db2baca54acebc8"
  },
  "kernelspec": {
   "display_name": "Python 3.9.7 64-bit ('base': conda)",
   "language": "python",
   "name": "python3"
  },
  "language_info": {
   "codemirror_mode": {
    "name": "ipython",
    "version": 3
   },
   "file_extension": ".py",
   "mimetype": "text/x-python",
   "name": "python",
   "nbconvert_exporter": "python",
   "pygments_lexer": "ipython3",
   "version": "3.9.7"
  },
  "orig_nbformat": 4
 },
 "nbformat": 4,
 "nbformat_minor": 2
}
